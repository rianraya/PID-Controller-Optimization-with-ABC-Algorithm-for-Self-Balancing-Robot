{
  "nbformat": 4,
  "nbformat_minor": 0,
  "metadata": {
    "colab": {
      "provenance": []
    },
    "kernelspec": {
      "name": "python3",
      "display_name": "Python 3"
    },
    "language_info": {
      "name": "python"
    }
  },
  "cells": [
    {
      "cell_type": "code",
      "execution_count": 407,
      "metadata": {
        "id": "LhZLU_afpSU3"
      },
      "outputs": [],
      "source": [
        "import numpy as np\n",
        "import matplotlib.pyplot as plt\n",
        "from scipy.integrate import odeint\n",
        "import sympy as smp\n",
        "from matplotlib import animation\n",
        "from matplotlib.animation import PillowWriter"
      ]
    },
    {
      "cell_type": "code",
      "source": [
        "F, t, g, r, l, M, m, I, i  = smp.symbols('F t g r L M m I i')\n",
        "theW, theP              = smp.symbols(r'\\phi \\theta_p', cls=smp.Function)"
      ],
      "metadata": {
        "id": "OCYqIIuZpb2E"
      },
      "execution_count": 408,
      "outputs": []
    },
    {
      "cell_type": "code",
      "source": [
        "theW    = theW(t)\n",
        "theP    = theP(t)\n",
        "theW_d  = smp.diff(theW, t)\n",
        "theP_d  = smp.diff(theP, t)\n",
        "theW_dd = smp.diff(theW_d, t)\n",
        "theP_dd = smp.diff(theP_d, t)"
      ],
      "metadata": {
        "id": "5Rq4lcorz8Ct"
      },
      "execution_count": 409,
      "outputs": []
    },
    {
      "cell_type": "code",
      "source": [
        "xW    = theW*r\n",
        "yW    = 0\n",
        "xW_d  = smp.diff(xW, t)\n",
        "\n",
        "xP    = xW + l*smp.sin(theP)\n",
        "yP    = l*smp.cos(theP)\n",
        "xP_d  = smp.diff(xP, t)\n",
        "yP_d  = smp.diff(yP, t)"
      ],
      "metadata": {
        "id": "ltsvuu2G0AdJ"
      },
      "execution_count": 410,
      "outputs": []
    },
    {
      "cell_type": "code",
      "source": [
        "vW  = xW_d\n",
        "vP  = xP_d + yP_d\n",
        "\n",
        "wW  = theW_d\n",
        "wP  = theP_d"
      ],
      "metadata": {
        "id": "65KwpcRF5bw3"
      },
      "execution_count": 411,
      "outputs": []
    },
    {
      "cell_type": "code",
      "source": [
        "#Tw  = (smp.Rational(1,2)*(M)*(vW**2)) + (smp.Rational(1,2)*(I)*(wW**2))\n",
        "Tw  = smp.Rational(1,2) * ((M) + (I)/(r**2)) * (xW_d**2)\n",
        "#Tp  = (smp.Rational(1,2)*(m)*(vP**2)) + (smp.Rational(1,2)*(i)*(wP**2))\n",
        "Tp  = smp.Rational(1,2)*m*xW_d**2 + l*xW_d*theP_d*smp.cos(theP) + smp.Rational(1,2)*(i+m*l**2)*theP**2\n",
        "\n",
        "Vw  = M * g * yW\n",
        "Vp  = m * g * yP\n",
        "L   = (Tw+Tp) - (Vw+Vp)"
      ],
      "metadata": {
        "id": "zwlPWHCN0FC1"
      },
      "execution_count": 412,
      "outputs": []
    },
    {
      "cell_type": "code",
      "source": [
        "LE1 = smp.diff(smp.diff(L, theW_d), t) - smp.diff(L, theW).simplify() # = F (wheel)\n",
        "LE2 = smp.diff(smp.diff(L, theP_d), t) - smp.diff(L, theP).simplify() # = 0 (pendulum)"
      ],
      "metadata": {
        "id": "lzKODh0tA7tL"
      },
      "execution_count": 413,
      "outputs": []
    },
    {
      "cell_type": "code",
      "source": [
        "Le1 = smp.Eq(LE1, F)\n",
        "Le2 = smp.Eq(LE2, 0)"
      ],
      "metadata": {
        "id": "nxiG27OxON60"
      },
      "execution_count": 414,
      "outputs": []
    },
    {
      "cell_type": "code",
      "source": [
        "sols = smp.solve([Le1, Le2], (theW_dd, theP_dd),\n",
        "                simplify=True, rational=False)"
      ],
      "metadata": {
        "id": "3XhVlnUKJHzE"
      },
      "execution_count": 415,
      "outputs": []
    },
    {
      "cell_type": "code",
      "source": [
        "sols[theW_dd]"
      ],
      "metadata": {
        "colab": {
          "base_uri": "https://localhost:8080/",
          "height": 58
        },
        "id": "T9FOxU-mQoKE",
        "outputId": "8c68af0a-f722-4327-ae9e-a20b2d586650"
      },
      "execution_count": 416,
      "outputs": [
        {
          "output_type": "execute_result",
          "data": {
            "text/plain": [
              "(L*m*(L*\\theta_p(t) + g*sin(\\theta_p(t))) + i*\\theta_p(t))/(L*r*cos(\\theta_p(t)))"
            ],
            "text/latex": "$\\displaystyle \\frac{L m \\left(L \\theta_{p}{\\left(t \\right)} + g \\sin{\\left(\\theta_{p}{\\left(t \\right)} \\right)}\\right) + i \\theta_{p}{\\left(t \\right)}}{L r \\cos{\\left(\\theta_{p}{\\left(t \\right)} \\right)}}$"
          },
          "metadata": {},
          "execution_count": 416
        }
      ]
    },
    {
      "cell_type": "code",
      "source": [
        "sols[theP_dd]"
      ],
      "metadata": {
        "colab": {
          "base_uri": "https://localhost:8080/",
          "height": 69
        },
        "id": "uWTW7OGfXb1P",
        "outputId": "f7fde6a5-a34a-4737-f6bb-0c1006ab6462"
      },
      "execution_count": 417,
      "outputs": [
        {
          "output_type": "execute_result",
          "data": {
            "text/plain": [
              "(F*L*r*cos(\\theta_p(t)) - I*L**2*m*\\theta_p(t) - I*L*g*m*sin(\\theta_p(t)) - I*i*\\theta_p(t) - L**2*m*r**2*(M + m)*\\theta_p(t) + L**2*r**2*sin(2*\\theta_p(t))*Derivative(\\theta_p(t), t)**2/2 - L*g*m*r**2*(M + m)*sin(\\theta_p(t)) - i*r**2*(M + m)*\\theta_p(t))/(L**2*r**2*cos(\\theta_p(t))**2)"
            ],
            "text/latex": "$\\displaystyle \\frac{F L r \\cos{\\left(\\theta_{p}{\\left(t \\right)} \\right)} - I L^{2} m \\theta_{p}{\\left(t \\right)} - I L g m \\sin{\\left(\\theta_{p}{\\left(t \\right)} \\right)} - I i \\theta_{p}{\\left(t \\right)} - L^{2} m r^{2} \\left(M + m\\right) \\theta_{p}{\\left(t \\right)} + \\frac{L^{2} r^{2} \\sin{\\left(2 \\theta_{p}{\\left(t \\right)} \\right)} \\left(\\frac{d}{d t} \\theta_{p}{\\left(t \\right)}\\right)^{2}}{2} - L g m r^{2} \\left(M + m\\right) \\sin{\\left(\\theta_{p}{\\left(t \\right)} \\right)} - i r^{2} \\left(M + m\\right) \\theta_{p}{\\left(t \\right)}}{L^{2} r^{2} \\cos^{2}{\\left(\\theta_{p}{\\left(t \\right)} \\right)}}$"
          },
          "metadata": {},
          "execution_count": 417
        }
      ]
    }
  ]
}